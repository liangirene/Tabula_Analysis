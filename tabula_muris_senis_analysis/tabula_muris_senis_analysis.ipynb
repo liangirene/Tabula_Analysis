{
 "cells": [
  {
   "cell_type": "markdown",
   "id": "0652ca7d-583a-4d3f-b6b7-cbca75f306df",
   "metadata": {},
   "source": [
    "# Tabula Muris Senis Analysis"
   ]
  },
  {
   "cell_type": "markdown",
   "id": "abbe46d2-bee4-4056-a82e-4800ecfb4bae",
   "metadata": {},
   "source": [
    "## Install & Load Packages ------"
   ]
  },
  {
   "cell_type": "code",
   "execution_count": null,
   "id": "1b91ee3e-58ee-4176-ac4f-a3dff28b82f6",
   "metadata": {},
   "outputs": [],
   "source": [
    "import scanpy as sc\n",
    "import seaborn as sns\n",
    "import numpy as np\n",
    "import matplotlib as mpl\n",
    "import matplotlib.pyplot as plt\n",
    "import pandas as pd\n",
    "import scipy.stats as stats\n",
    "import os\n",
    "import sys\n",
    "import warnings\n",
    "from matplotlib.patches import Patch\n",
    "\n",
    "# suppress warnings\n",
    "warnings.filterwarnings('ignore')"
   ]
  },
  {
   "cell_type": "markdown",
   "id": "5087700f-c248-49c4-a02d-86f6091d39aa",
   "metadata": {},
   "source": [
    "## Load Dataset ------"
   ]
  },
  {
   "cell_type": "code",
   "execution_count": null,
   "id": "b793c29e-f13d-4d04-bef9-27e35ce88ad0",
   "metadata": {},
   "outputs": [],
   "source": [
    "# Dataset link: https://figshare.com/articles/dataset/Processed_files_to_use_with_scanpy_/8273102?file=23936555\n",
    "h5ad = \"/oak/stanford/groups/ckuo/Shawn_shared/Tabula_Muris_Analysis/tabula_muris_senis_combined.h5ad\"\n",
    "adata = sc.read_h5ad(h5ad)\n",
    "sc.set_figure_params(dpi=300)\n",
    "adata.obs"
   ]
  },
  {
   "cell_type": "markdown",
   "id": "8a760f71-6ba9-4f8e-8b9e-233dfc1afc19",
   "metadata": {},
   "source": [
    "## Data Preparation & Preprocessing"
   ]
  },
  {
   "cell_type": "raw",
   "id": "931a3805-bd4e-4dc4-b914-b418d89301aa",
   "metadata": {},
   "source": [
    "Data processing was previously performed: \n",
    "- Total-count normalize the data matrix 𝐗 to 10,000 reads per cell, so that counts become comparable among cells\n",
    "#sc.pp.normalize_total(adata, target_sum=1e4)\n",
    "\n",
    "- Logarithmize the data\n",
    "#sc.pp.log1p(adata)"
   ]
  },
  {
   "cell_type": "code",
   "execution_count": null,
   "id": "0ccf6e41-c81d-4a87-9bb2-cd34177977d4",
   "metadata": {},
   "outputs": [],
   "source": [
    "# Identify highly-variable genes: https://www.nature.com/articles/nbt.3192\n",
    "sc.pp.highly_variable_genes(adata, min_mean=0.0125, max_mean=3, min_disp=0.5)\n",
    "sc.pl.highly_variable_genes(adata)\n",
    "\n",
    "# View highly variable genes \n",
    "highly_variable_genes = adata[:, adata.var.highly_variable].var # 3135 highly-variable genes\n",
    "highly_variable_genes.to_csv('highly_variable_genes.csv')"
   ]
  },
  {
   "cell_type": "markdown",
   "id": "9966a98a-6893-4389-a714-ebeb2f62f8e6",
   "metadata": {},
   "source": [
    "## Principal Component Analysis -----"
   ]
  },
  {
   "cell_type": "code",
   "execution_count": null,
   "id": "965e86b5-bf62-499d-b132-595c934ae4f8",
   "metadata": {},
   "outputs": [],
   "source": [
    "# Reduce the dimensionality of the data\n",
    "sc.tl.pca(adata, svd_solver='arpack')"
   ]
  },
  {
   "cell_type": "code",
   "execution_count": null,
   "id": "a30f89be-3e77-4438-b161-6b6332b56259",
   "metadata": {},
   "outputs": [],
   "source": [
    "# Inspect the contribution of single PCs to the total variance in the data\n",
    "sc.pl.pca_variance_ratio(adata, log=True)"
   ]
  },
  {
   "cell_type": "code",
   "execution_count": null,
   "id": "51e4730a-7340-4720-ae43-d31ee3670ca8",
   "metadata": {},
   "outputs": [],
   "source": [
    "# Compute the neighborhood graph of cells using the PCA representation of the data matrix\n",
    "sc.pp.neighbors(adata, n_neighbors=15, n_pcs=30, method='umap')"
   ]
  },
  {
   "cell_type": "markdown",
   "id": "bd0f57c3-7700-48e7-b737-913cb9619e09",
   "metadata": {},
   "source": [
    "## Exploratory Data Analysis -----"
   ]
  },
  {
   "cell_type": "code",
   "execution_count": null,
   "id": "9d018c98-2359-48f2-8a06-d3d960c9af6c",
   "metadata": {},
   "outputs": [],
   "source": [
    "sc.pl.umap(adata, color = \"tissue\", save = '_ms_all_cells')"
   ]
  },
  {
   "cell_type": "code",
   "execution_count": null,
   "id": "5520b93d-a00f-496c-b20d-8515a77cfbea",
   "metadata": {},
   "outputs": [],
   "source": [
    "sc.pl.umap(adata, color='leiden', cmap='RdYlBu_r', use_raw=False, save='_ms_all_leiden')"
   ]
  },
  {
   "cell_type": "code",
   "execution_count": null,
   "id": "3432fe01-92c0-4073-a290-4ee925a54a7e",
   "metadata": {},
   "outputs": [],
   "source": [
    "# Dotplot to visualize markers\n",
    "markers = ['Sox10', 'Ncam1','Plp1', 'S100b','Gfra3', 'Gfap']\n",
    "sc.pl.dotplot(adata, markers, groupby='leiden', swap_axes=True, save = \"ms_markers_dotplot.pdf\", dot_max=1, use_raw=False)"
   ]
  },
  {
   "cell_type": "code",
   "execution_count": null,
   "id": "9da9cffd-5033-444c-877c-f594239c5276",
   "metadata": {},
   "outputs": [],
   "source": [
    "# Subset dataset to cells assigned to cluster 32\n",
    "cluster32 = adata[adata.obs['leiden'] == '32']\n",
    "cluster32.obs.groupby(['tissue']).size().to_frame(name='counts').to_csv('cluster32_tissue_df.csv')\n",
    "cluster32.obs.groupby(['cell_ontology_class']).size().to_frame(name='counts').to_csv('cluster32_cell_class_df.csv')"
   ]
  },
  {
   "cell_type": "code",
   "execution_count": null,
   "id": "88cffb1c-527e-4743-bfd2-e3804fc7c604",
   "metadata": {},
   "outputs": [],
   "source": [
    "def highlightCluster(adata, cluster):\n",
    "    adata.obs['glial_highlight'] = 'non_glia'\n",
    "    adata.obs['glial_highlight'] = adata.obs['glial_highlight'].astype('category')\n",
    "    adata.obs['glial_highlight'] = adata.obs['glial_highlight'].cat.set_categories(['non_glia', 'glia_candidates'])\n",
    "    adata.obs['glial_highlight'].loc[adata.obs['leiden'] == str(cluster)] = 'glia_candidates'\n",
    "    return adata"
   ]
  },
  {
   "cell_type": "code",
   "execution_count": null,
   "id": "8282256e-03bd-46e2-aafd-9c7afcc1547c",
   "metadata": {},
   "outputs": [],
   "source": [
    "# Highlight cluster 32 on UMAP\n",
    "adata_highlight_32 = highlightCluster(adata, 32)\n",
    "sc.pl.umap(adata_highlight_32, color='glial_highlight', cmap='RdYlBu_r', palette={'non_glia':\"grey\", 'glia_candidates':'orange'}, use_raw=False, save='_ms_all_cells_cluster_32')"
   ]
  },
  {
   "cell_type": "code",
   "execution_count": null,
   "id": "661e967a-b91e-4377-b66f-3dc078637b05",
   "metadata": {},
   "outputs": [],
   "source": [
    "sc.pl.umap(adata, color='Sox10', cmap='RdYlBu_r', use_raw=False, save='_ms_all_cells_Sox10_colored') # not highly variable gene?"
   ]
  },
  {
   "cell_type": "code",
   "execution_count": null,
   "id": "f6cdbbef-1bb5-4dea-983a-ed0d32d76191",
   "metadata": {},
   "outputs": [],
   "source": [
    "sc.pl.umap(adata, color='Cryab', cmap='RdYlBu_r', use_raw=False, save='_ms_all_cells_Cryab_colored')"
   ]
  },
  {
   "cell_type": "code",
   "execution_count": null,
   "id": "6bebd77d-bdfb-4e4c-8d88-97edfa5a2f81",
   "metadata": {},
   "outputs": [],
   "source": [
    "sc.pl.umap(adata, color='Cdh19', cmap='RdYlBu_r', use_raw=False, save='_ms_all_cells_Cdh19_colored')"
   ]
  },
  {
   "cell_type": "code",
   "execution_count": null,
   "id": "50dcf0fd-9cd0-48f1-a818-b4aa2ce4eb2a",
   "metadata": {},
   "outputs": [],
   "source": [
    "sc.pl.umap(adata, color='Plp1', cmap='RdYlBu_r', use_raw=False, save='_ms_all_cells_Plp1_colored') # not highly variable gene?"
   ]
  },
  {
   "cell_type": "code",
   "execution_count": null,
   "id": "ebd06ceb-be70-4389-a4b7-144907d9ae91",
   "metadata": {},
   "outputs": [],
   "source": [
    "sc.pl.umap(adata, color='S100b', cmap='RdYlBu_r', use_raw=False, save='_ms_all_cells_S100b_colored')"
   ]
  },
  {
   "cell_type": "code",
   "execution_count": null,
   "id": "143a193e-d9f3-467d-a20a-d4e21af0beec",
   "metadata": {},
   "outputs": [],
   "source": [
    "sc.pl.umap(adata, color='Ncam1', cmap='RdYlBu_r', use_raw=False, save='_ms_all_cells_Ncam1_colored') # not highly variable gene?"
   ]
  },
  {
   "cell_type": "code",
   "execution_count": null,
   "id": "39da8996-3b93-4a87-a628-3377b446b112",
   "metadata": {},
   "outputs": [],
   "source": [
    "sc.pl.umap(adata, color='Gfra3', cmap='RdYlBu_r', use_raw=False, save='_ms_all_cells_Gfra3_colored') # not highly variable gene?"
   ]
  },
  {
   "cell_type": "code",
   "execution_count": null,
   "id": "b0a1aef8-d74f-49a1-969c-335999d95d1f",
   "metadata": {},
   "outputs": [],
   "source": [
    "sc.pl.umap(adata, color='Gfap', cmap='RdYlBu_r', use_raw=False, save='_ms_all_cells_Gfap_colored')"
   ]
  },
  {
   "cell_type": "code",
   "execution_count": null,
   "id": "b894ab16-6ad9-4a6f-993a-5514a11e4e13",
   "metadata": {},
   "outputs": [],
   "source": [
    "sc.pl.umap(adata, color='Mbp', cmap='RdYlBu_r', use_raw=False, save='_ms_all_cells_Mbp_colored')"
   ]
  },
  {
   "cell_type": "code",
   "execution_count": null,
   "id": "bf077afe-99b2-43f9-8521-93c52071b704",
   "metadata": {},
   "outputs": [],
   "source": [
    "# Define a function for making a violin plot, given the tissue and gene\n",
    "def violin_plot(adata, tissue, gene):\n",
    "    tissue_subset = adata[adata.obs['tissue'] == tissue]\n",
    "    with mpl.rc_context({\"figure.figsize\": (10, 5), \"figure.dpi\": (300)}):\n",
    "        plot = sc.pl.violin(tissue_subset, [gene], groupby='leiden', use_raw = False, rotation=90, \n",
    "                            ylabel=tissue+'_'+gene, show=False, save='_ms_'+tissue+'_'+gene)\n",
    "    return plot \n",
    "\n",
    "# Violin plot for marker genes of Limb_Muscle\n",
    "violin_plot(adata, \"Limb_Muscle\", \"Sox10\")\n",
    "violin_plot(adata, \"Limb_Muscle\", \"S100b\")\n",
    "violin_plot(adata, \"Limb_Muscle\", \"Plp1\")\n",
    "violin_plot(adata, \"Limb_Muscle\", \"Ncam1\")\n",
    "violin_plot(adata, \"Limb_Muscle\", \"Gfap\")\n",
    "violin_plot(adata, \"Limb_Muscle\", \"Nrxn1\")\n",
    "violin_plot(adata, \"Limb_Muscle\", \"Cryab\")\n",
    "violin_plot(adata, \"Limb_Muscle\", \"Scn7a\")\n",
    "violin_plot(adata, \"Limb_Muscle\", \"Mbp\")\n",
    "violin_plot(adata, \"Limb_Muscle\", \"Mpz\")"
   ]
  },
  {
   "cell_type": "markdown",
   "id": "616f4842-3193-4a15-b64d-2e61bf106614",
   "metadata": {},
   "source": [
    "## Differential expression: finding marker genes ------ "
   ]
  },
  {
   "cell_type": "code",
   "execution_count": null,
   "id": "23b09f93-84cb-40b7-ae53-b8cfd6258fa5",
   "metadata": {},
   "outputs": [],
   "source": [
    "# Get characterizing genes for cluster 32 vs the rest\n",
    "sc.tl.rank_genes_groups(adata, 'leiden', groups=['32'], reference='rest', method='wilcoxon', use_raw=False)\n",
    "sc.pl.rank_genes_groups(adata, n_genes=25, save='_ms_32_vs_rest', sharey=False)"
   ]
  },
  {
   "cell_type": "code",
   "execution_count": null,
   "id": "a2c46d71-acf8-48d6-99b5-9f8cc4d67476",
   "metadata": {},
   "outputs": [],
   "source": [
    "# Dotplot for cluster 32 ranked genes\n",
    "sc.pl.rank_genes_groups_dotplot(adata, n_genes=100, groupby=\"leiden\", save='_ms_rgg_cluster32_dotplot', use_raw=False)"
   ]
  },
  {
   "cell_type": "code",
   "execution_count": null,
   "id": "9bb925ea-2a2c-472d-af6a-01bd6b17429d",
   "metadata": {},
   "outputs": [],
   "source": [
    "# Get rgg result into dataframe\n",
    "sc.get.rank_genes_groups_df(adata, group='32').to_csv('rgg_32.csv')\n",
    "sc.get.rank_genes_groups_df(adata, group='32')"
   ]
  },
  {
   "cell_type": "markdown",
   "id": "2dd9ff32-33ba-47b2-859d-4abc1d8f09d6",
   "metadata": {},
   "source": [
    "<hr>"
   ]
  },
  {
   "cell_type": "code",
   "execution_count": null,
   "id": "1f58c2cc-3cc7-4f64-a99e-e65d8e9212fc",
   "metadata": {},
   "outputs": [],
   "source": [
    "# Analysis of Gpm6b\n",
    "gpm6b_index = np.where(adata.raw.var_names == 'Gpm6b')[0][0]\n",
    "gpm6b_arr = adata.raw.X.toarray()[:,gpm6b_index]\n",
    "adata.obs['Gpm6b_col'] = gpm6b_arr"
   ]
  },
  {
   "cell_type": "code",
   "execution_count": null,
   "id": "c46abbf1-02bc-4a30-a259-2ef986875da7",
   "metadata": {},
   "outputs": [],
   "source": [
    "# Visualize Gpm6b on ViolinPlot\n",
    "sc.pl.violin(adata, ['Gpm6b_col'], groupby='leiden', use_raw = False, save='_ms_violin_across_groups_Gpm6b')\n",
    "sc.set_figure_params(figsize=(20, 20))"
   ]
  },
  {
   "cell_type": "code",
   "execution_count": null,
   "id": "5f7c5195-fd6f-4bc4-a178-f9ba00c0cfe7",
   "metadata": {},
   "outputs": [],
   "source": [
    "# Visualize Gpm6b on UMAP\n",
    "sc.pl.umap(adata, color=['Gpm6b'], cmap='RdYlBu_r', use_raw=False, save='_ms_32_gpm6b')"
   ]
  },
  {
   "cell_type": "markdown",
   "id": "7e51cbeb-8d8e-4586-a28d-080a572732fb",
   "metadata": {},
   "source": [
    "<hr>"
   ]
  },
  {
   "cell_type": "code",
   "execution_count": null,
   "id": "352c42c2-7a7c-4b76-9c5b-6fa1814045ba",
   "metadata": {},
   "outputs": [],
   "source": [
    "# Analysis of Cryab\n",
    "cryab_index = np.where(adata.raw.var_names == 'Cryab')[0][0]\n",
    "cryab_arr = adata.raw.X.toarray()[:,cryab_index]\n",
    "adata.obs['Cryab_col'] = cryab_arr"
   ]
  },
  {
   "cell_type": "code",
   "execution_count": null,
   "id": "cec44c85-1439-48bf-a5ba-10d71b85c071",
   "metadata": {},
   "outputs": [],
   "source": [
    "# Visualize Cryab on ViolinPlot\n",
    "sc.pl.violin(adata, ['Cryab_col'], groupby='leiden', use_raw = False, save='_ms_violin_across_groups_Cryab')\n",
    "sc.set_figure_params(figsize=(20, 20))"
   ]
  },
  {
   "cell_type": "code",
   "execution_count": null,
   "id": "4ccf06aa-75df-42ee-a5df-71b9cf53289d",
   "metadata": {},
   "outputs": [],
   "source": [
    "# Visualize Cryab on UMAP\n",
    "sc.pl.umap(adata, color=['Cryab'], cmap='RdYlBu_r', use_raw=False, save='_ms_32_cryab')"
   ]
  },
  {
   "cell_type": "markdown",
   "id": "c9340a1a-c7d6-4fed-9557-f03db7a0eb85",
   "metadata": {},
   "source": [
    "<hr>"
   ]
  },
  {
   "cell_type": "code",
   "execution_count": null,
   "id": "40d27521-1f0f-4dc0-8475-6c726cb4a0ff",
   "metadata": {},
   "outputs": [],
   "source": [
    "# Analysis of Scd2\n",
    "scd2_index = np.where(adata.raw.var_names == 'Scd2')[0][0]\n",
    "scd2_arr = adata.raw.X.toarray()[:,scd2_index]\n",
    "adata.obs['Scd2_col'] = scd2_arr"
   ]
  },
  {
   "cell_type": "code",
   "execution_count": null,
   "id": "428695a1-53ce-45a9-930c-cbbdbe5c6b14",
   "metadata": {},
   "outputs": [],
   "source": [
    "# Visualize Scd2 on ViolinPlot\n",
    "sc.pl.violin(adata, ['Scd2_col'], groupby='leiden', use_raw = False, save='_ms_violin_across_groups_Scd2')\n",
    "sc.set_figure_params(figsize=(20, 20))"
   ]
  },
  {
   "cell_type": "code",
   "execution_count": null,
   "id": "28eb771b-fddb-4918-8a48-a7c61ccb98ca",
   "metadata": {},
   "outputs": [],
   "source": [
    "# Visualize Scd2 on UMAP\n",
    "sc.pl.umap(adata, color=['Scd2'], cmap='RdYlBu_r', use_raw=False, save='_ms_32_scd2')"
   ]
  },
  {
   "cell_type": "markdown",
   "id": "c4e329cd-50eb-4f64-8c54-d4b85d41bd35",
   "metadata": {},
   "source": [
    "## Sub-set Cluster 32 (No CNS) -----"
   ]
  },
  {
   "cell_type": "code",
   "execution_count": null,
   "id": "2e0c2c23-3932-484a-8eeb-2fc6f5a498b0",
   "metadata": {},
   "outputs": [],
   "source": [
    "# Filter out brain tissue from cluster 32\n",
    "cns_mask = (cluster32.obs['tissue'] != \"Brain_Non-Myeloid\") & (cluster32.obs['tissue'] != \"Brain_Myeloid\")\n",
    "cns_mask[cns_mask == False] # 3176 CNS cells in cluster 32\n",
    "\n",
    "cluster32_no_cns = cluster32[cns_mask]\n",
    "cluster32_no_cns.obs # 1124 cells in cluster 32, without CNS ("
   ]
  },
  {
   "cell_type": "code",
   "execution_count": null,
   "id": "81ef3400-3b1d-49f8-a5fa-8f5e7d9215d2",
   "metadata": {},
   "outputs": [],
   "source": [
    "# Run leiden on sub-cluster 32\n",
    "sc.tl.leiden(cluster32_no_cns, resolution = 0.01, key_added = \"leiden_0.01\")\n",
    "sc.tl.leiden(cluster32_no_cns, resolution = 0.05, key_added = \"leiden_0.05\")\n",
    "sc.tl.leiden(cluster32_no_cns, resolution = 0.1, key_added = \"leiden_0.1\")\n",
    "sc.tl.leiden(cluster32_no_cns, resolution = 0.2, key_added = \"leiden_0.2\")\n",
    "\n",
    "sc.pl.umap(cluster32_no_cns, color=['leiden_0.01', 'leiden_0.05', 'leiden_0.1', 'leiden_0.2'], use_raw=False, save='_ms_cluster32_no_cns_leiden')\n",
    "#sc.set_figure_params(figsize=(10, 15))"
   ]
  },
  {
   "cell_type": "code",
   "execution_count": null,
   "id": "81f3d608-2628-4dc5-bf97-31400c8eb066",
   "metadata": {},
   "outputs": [],
   "source": [
    "# Choose resolution leiden_0.05. Inspect number of cells in each cluster\n",
    "cluster32_no_cns.obs['leiden_0.05'].value_counts().sort_index().plot(kind=\"bar\")\n",
    "\n",
    "# Only 1 cell from clusters 7~20, we will filter them out\n",
    "cluster32_no_cns_filtered = cluster32_no_cns[pd.to_numeric(cluster32_no_cns.obs['leiden_0.05']) < 7]\n",
    "cluster32_no_cns_filtered # 1105 cells\n",
    "sc.pl.umap(cluster32_no_cns_filtered, color='leiden_0.05', palette=\"Set1\", use_raw=False, save='_ms_cluster32_no_cns_filtered_0.05')\n",
    "sc.set_figure_params(dpi=300)"
   ]
  },
  {
   "cell_type": "code",
   "execution_count": null,
   "id": "174885c6-621f-4f7f-b154-1a19d9ae93a0",
   "metadata": {},
   "outputs": [],
   "source": [
    "# Get characterizing genes within re-clustered 32\n",
    "sc.tl.rank_genes_groups(cluster32_no_cns_filtered, 'leiden_0.05', method='wilcoxon', use_raw=False)\n",
    "sc.pl.rank_genes_groups(cluster32_no_cns_filtered, n_genes=10, save='_ms_32_recluster_rank', sharey=False)"
   ]
  },
  {
   "cell_type": "code",
   "execution_count": null,
   "id": "1516562c-b1fe-4e14-a60c-ef51a54927b1",
   "metadata": {},
   "outputs": [],
   "source": [
    "# Get rank_genes_groups into dataframe\n",
    "sc.get.rank_genes_groups_df(cluster32_no_cns_filtered, group='0').to_csv('recluster32_rgg_0.csv')\n",
    "sc.get.rank_genes_groups_df(cluster32_no_cns_filtered, group='1').to_csv('recluster32_rgg_1.csv')\n",
    "sc.get.rank_genes_groups_df(cluster32_no_cns_filtered, group='2').to_csv('recluster32_rgg_2.csv')\n",
    "sc.get.rank_genes_groups_df(cluster32_no_cns_filtered, group='3').to_csv('recluster32_rgg_3.csv')\n",
    "sc.get.rank_genes_groups_df(cluster32_no_cns_filtered, group='4').to_csv('recluster32_rgg_4.csv')\n",
    "sc.get.rank_genes_groups_df(cluster32_no_cns_filtered, group='5').to_csv('recluster32_rgg_5.csv')\n",
    "sc.get.rank_genes_groups_df(cluster32_no_cns_filtered, group='6').to_csv('recluster32_rgg_6.csv')"
   ]
  },
  {
   "cell_type": "code",
   "execution_count": null,
   "id": "36097bc9-e152-4950-871b-75fcde7c4ca0",
   "metadata": {},
   "outputs": [],
   "source": [
    "# UMAP of filtered cluster32, colored by tissue \n",
    "sc.pl.umap(cluster32_no_cns_filtered, color='tissue', save='_ms_cluster32_filtered_no_cns_tissue')\n",
    "\n",
    "# Count of filtered cluster32 for each tissue type \n",
    "cluster32_no_cns_filtered.obs.groupby(['tissue']).size().to_frame(name='counts').to_csv('cluster32_filtered_no_cns_tissue_df.csv')\n",
    "cluster32_no_cns_filtered.obs.groupby(['tissue']).size().to_frame(name='counts')"
   ]
  },
  {
   "cell_type": "code",
   "execution_count": null,
   "id": "e0f7516b-07aa-4a7e-aa7e-3bbcee6315fd",
   "metadata": {},
   "outputs": [],
   "source": [
    "# Highlight genes on filtered cluster32 (no CNS) UMAP\n",
    "sc.pl.umap(cluster32_no_cns_filtered, color='Sox10', cmap='RdYlBu_r', use_raw=False, save='_ms_cluster32_no_cns_sox10_HL')\n",
    "sc.pl.umap(cluster32_no_cns_filtered, color='S100b', cmap='RdYlBu_r', use_raw=False, save='_ms_cluster32_no_cns_s100b_HL')\n",
    "sc.pl.umap(cluster32_no_cns_filtered, color='Plp1', cmap='RdYlBu_r', use_raw=False, save='_ms_cluster32_no_cns_plp1_HL')\n",
    "sc.pl.umap(cluster32_no_cns_filtered, color='Ncam1', cmap='RdYlBu_r', use_raw=False, save='_ms_cluster32_no_cns_ncam1_HL')\n",
    "sc.pl.umap(cluster32_no_cns_filtered, color='Gfap', cmap='RdYlBu_r', use_raw=False, save='_ms_cluster32_no_cns_gfap_HL')\n",
    "sc.pl.umap(cluster32_no_cns_filtered, color='Nrxn1', cmap='RdYlBu_r', use_raw=False, save='_ms_cluster32_no_cns_nrxn1_HL')\n",
    "sc.pl.umap(cluster32_no_cns_filtered, color='Erbb3', cmap='RdYlBu_r', use_raw=False, save='_ms_cluster32_no_cns_erbb3_HL')\n",
    "sc.pl.umap(cluster32_no_cns_filtered, color='Cryab', cmap='RdYlBu_r', use_raw=False, save='_ms_cluster32_no_cns_cryab_HL')\n",
    "sc.pl.umap(cluster32_no_cns_filtered, color='Scn7a', cmap='RdYlBu_r', use_raw=False, save='_ms_cluster32_no_cns_scn7a_HL')"
   ]
  },
  {
   "cell_type": "code",
   "execution_count": null,
   "id": "4240f63f-be3a-4587-a172-d6f0189d0f39",
   "metadata": {},
   "outputs": [],
   "source": [
    "# Function for generating a heatmap for specified tissue\n",
    "def snsHeatmap(adata, tissue):\n",
    "    adata.obs['barcodes'] = adata.obs.index\n",
    "    def sub_genes(adata, tissue):\n",
    "        sub = adata[adata.obs['tissue']==tissue]\n",
    "        sub = sub[:, ['Sox10','Plp1','S100b','Ncam1','Gfap','Pllp','Mpz','Mbp','Pmp22','Cdkn1c','Scn7a',\n",
    "                      'Gfra3','Apoe','Nrxn1','Col1a1','Acta2','Epcam','Cdh1','Krt5','Krt14','Ptprc','Itgam',\n",
    "                      'Cd3e','Cd19','Mitf','Dct','Mlana','Pmel','Tyr','Tyrp1']]\n",
    "        sub.obs['barcodes']=sub.obs.index\n",
    "        sub.obs['barcodes']=sub.obs['barcodes'].astype('category')\n",
    "        display(sub)\n",
    "        return(sub)\n",
    "    sub = sub_genes(adata,tissue)\n",
    "    heatmap = sns.clustermap(sub.X.todense(), yticklabels = list(sub.obs['barcodes']), xticklabels= list(sub.var.index), col_cluster = False, cmap='RdYlBu_r')\n",
    "    heatmap.tick_params(axis='both', which='major', labelsize=3)\n",
    "    fig = heatmap.fig\n",
    "    fig.savefig(\"_ms_\" + tissue + \"_cluster32_filtered_heatmap.pdf\")"
   ]
  },
  {
   "cell_type": "code",
   "execution_count": null,
   "id": "11d60510-4c6b-4efe-acec-79437c365561",
   "metadata": {},
   "outputs": [],
   "source": [
    "# Apply heatmap function on specified tissues\n",
    "snsHeatmap(cluster32_no_cns_filtered, \"Limb_Muscle\")\n",
    "snsHeatmap(cluster32_no_cns_filtered, \"Bladder\")\n",
    "snsHeatmap(cluster32_no_cns_filtered, \"Trachea\")\n",
    "snsHeatmap(cluster32_no_cns_filtered, \"Fat\")\n",
    "snsHeatmap(cluster32_no_cns_filtered, \"Heart\")\n",
    "snsHeatmap(cluster32_no_cns_filtered, \"Kidney\")\n",
    "snsHeatmap(cluster32_no_cns_filtered, \"Lung\")"
   ]
  },
  {
   "cell_type": "markdown",
   "id": "1d4d3046-7abd-46ef-a4d9-83c43cc0ae97",
   "metadata": {},
   "source": [
    "## Filter Tissues & Cells of Re-Clustered 32 (No CNS) -----"
   ]
  },
  {
   "cell_type": "code",
   "execution_count": null,
   "id": "7636f124-7d97-4420-babe-0cc67194dbe9",
   "metadata": {},
   "outputs": [],
   "source": [
    "# Filter out tissues of interest (7 in total)\n",
    "filtered_tissue = cluster32_no_cns_filtered[cluster32_no_cns_filtered.obs.loc[cluster32_no_cns_filtered.obs['tissue'].isin(['Limb_Muscle', 'Bladder', 'Trachea', 'Fat', 'Heart', 'Kidney', 'Lung'])].index]\n",
    "filtered_tissue.obs['tissue']"
   ]
  },
  {
   "cell_type": "code",
   "execution_count": null,
   "id": "fd773acf-8326-49c8-80bb-eb62c8bb770f",
   "metadata": {},
   "outputs": [],
   "source": [
    "# Filter out barcodes of fat, heart, trachea that are not glial (selected from heatmap analysis)\n",
    "remove_barcode = pd.read_csv('remove_barcode.csv', header=None)\n",
    "remove_barcode[0].to_numpy()\n",
    "filtered_barcodes = filtered_tissue[filtered_tissue.obs.loc[~filtered_tissue.obs['barcodes'].isin(remove_barcode[0].to_numpy())].index]"
   ]
  },
  {
   "cell_type": "code",
   "execution_count": null,
   "id": "d4908669-37ab-48d9-9968-62f78756d039",
   "metadata": {},
   "outputs": [],
   "source": [
    "# Filter out barcodes of kidney that are not glial (selected from heatmap analysis)\n",
    "kidney_barcode = pd.read_csv('kidney_barcode.csv', header=None) # read in kidney barcodes that we want to keep\n",
    "kidney_barcode[0].to_numpy()\n",
    "kidney = filtered_barcodes[filtered_barcodes.obs['tissue'] == 'Kidney'] # subset out kidney tissue\n",
    "kidney_filter = kidney[kidney.obs.loc[~kidney.obs['barcodes'].isin(kidney_barcode[0].to_numpy())].index].obs['barcodes'] # get the kidney barcodes that we want to filter out\n",
    "\n",
    "cluster32_glial = filtered_barcodes[filtered_barcodes.obs.loc[~filtered_barcodes.obs['barcodes'].isin(kidney_filter.to_numpy())].index] # 435 cells\n",
    "cluster32_glial.obs.to_csv('cluster32_glial.csv')"
   ]
  },
  {
   "cell_type": "code",
   "execution_count": null,
   "id": "3063f61d-f200-46c1-907a-724bfc436c1a",
   "metadata": {},
   "outputs": [],
   "source": [
    "cluster32_glial.write_h5ad(\"cluster32_glial.h5ad\")"
   ]
  },
  {
   "cell_type": "markdown",
   "id": "90f3e1f0-8dfe-40a7-9be9-6bc81382e524",
   "metadata": {},
   "source": [
    "## Plot Outputs of Subsetted Glial Cells From Cluster 32 (No CNS)"
   ]
  },
  {
   "cell_type": "code",
   "execution_count": null,
   "id": "0d396251-8c82-4913-9c38-b3d44a6f5a0b",
   "metadata": {},
   "outputs": [],
   "source": [
    "# UMAP of filtered cluster32, colored by tissue \n",
    "sc.pl.umap(cluster32_glial, color='tissue', palette=\"Set1\", save='_ms_glial_tissue')\n",
    "\n",
    "# Count of filtered cluster32 for each tissue type \n",
    "cluster32_glial.obs.groupby(['tissue']).size().to_frame(name='counts').to_csv('glial_tissue_df.csv')\n",
    "cluster32_glial.obs.groupby(['tissue']).size().to_frame(name='counts')"
   ]
  },
  {
   "cell_type": "code",
   "execution_count": null,
   "id": "9bb33cfa-4183-4e68-ab70-cbf8ccaa972c",
   "metadata": {},
   "outputs": [],
   "source": [
    "# Highlight leiden_0.05 cluster on UMAP\n",
    "sc.pl.umap(cluster32_glial, color='leiden_0.05', cmap='RdYlBu_r', use_raw=False, save='_ms_glial_leiden_0.05')"
   ]
  },
  {
   "cell_type": "code",
   "execution_count": null,
   "id": "f99924be-250e-4336-9110-090a803c3887",
   "metadata": {},
   "outputs": [],
   "source": [
    "# Highlight selected genes on subsetted glial cells UMAP\n",
    "sc.pl.umap(cluster32_glial, color='Sox10', cmap='RdYlBu_r', use_raw=False, save='_ms_glial_sox10_HL')\n",
    "sc.pl.umap(cluster32_glial, color='S100b', cmap='RdYlBu_r', use_raw=False, save='_ms_glial_s100b_HL')\n",
    "sc.pl.umap(cluster32_glial, color='Plp1', cmap='RdYlBu_r', use_raw=False, save='_ms_glial_plp1_HL')\n",
    "sc.pl.umap(cluster32_glial, color='Ncam1', cmap='RdYlBu_r', use_raw=False, save='_ms_glial_ncam1_HL')\n",
    "sc.pl.umap(cluster32_glial, color='Gfap', cmap='RdYlBu_r', use_raw=False, save='_ms_glial_gfap_HL')\n",
    "sc.pl.umap(cluster32_glial, color='Nrxn1', cmap='RdYlBu_r', use_raw=False, save='_ms_glial_nrxn1_HL')\n",
    "sc.pl.umap(cluster32_glial, color='Erbb3', cmap='RdYlBu_r', use_raw=False, save='_ms_glial_erbb3_HL')\n",
    "sc.pl.umap(cluster32_glial, color='Cryab', cmap='RdYlBu_r', use_raw=False, save='_ms_glial_cryab_HL')\n",
    "sc.pl.umap(cluster32_glial, color='Scn7a', cmap='RdYlBu_r', use_raw=False, save='_ms_glial_scn7a_HL')\n",
    "sc.pl.umap(cluster32_glial, color='Mbp', cmap='RdYlBu_r', use_raw=False, save='_ms_glial_mbp_HL')\n",
    "sc.pl.umap(cluster32_glial, color='Mpz', cmap='RdYlBu_r', use_raw=False, save='_ms_glial_mpz_HL')"
   ]
  },
  {
   "cell_type": "code",
   "execution_count": null,
   "id": "5adb5de7-eeaf-44af-9866-ad9a5d39c5cd",
   "metadata": {},
   "outputs": [],
   "source": [
    "# Highlight final glial on UMAP\n",
    "def glial_umap(adata, ind):\n",
    "    adata.obs['final_glial'] = 'non_glial'\n",
    "    adata.obs['final_glial'] = adata.obs['final_glial'].astype('category')\n",
    "    adata.obs['final_glial'] = adata.obs['final_glial'].cat.set_categories(['non_glial', 'glial'])\n",
    "    adata.obs['final_glial'].loc[ind] = 'glial'\n",
    "    return sc.pl.umap(adata, color='final_glial', palette={\"non_glial\":\"grey\", \"glial\":'orange'}, use_raw=False, save='_ms_glial_highlight')\n",
    "\n",
    "glial_umap(adata, list(cluster32_glial.obs.index))"
   ]
  },
  {
   "cell_type": "code",
   "execution_count": null,
   "id": "de98f92f-f03a-4768-b3b3-b242504d438d",
   "metadata": {},
   "outputs": [],
   "source": [
    "# Get characterizing genes for glial cluster vs the rest\n",
    "sc.tl.rank_genes_groups(adata, 'final_glial', method='wilcoxon', use_raw=False)\n",
    "sc.pl.rank_genes_groups(adata, n_genes=25, save='_ms_glial_vs_rest_rank', sharey=False)"
   ]
  },
  {
   "cell_type": "code",
   "execution_count": null,
   "id": "48f17deb-447a-40a5-9d6f-01e7c6c98a98",
   "metadata": {},
   "outputs": [],
   "source": [
    "# Get characterizing genes for glial cluster vs the rest into a dataframe \n",
    "sc.get.rank_genes_groups_df(adata, group='non_glial').to_csv('non_glial_rgg.csv')\n",
    "sc.get.rank_genes_groups_df(adata, group='glial').to_csv('glial_rgg.csv')"
   ]
  },
  {
   "cell_type": "code",
   "execution_count": null,
   "id": "9bd30784-8df0-423f-a734-d0a231692095",
   "metadata": {},
   "outputs": [],
   "source": [
    "# Plot top differential genes on UMAP\n",
    "sc.pl.umap(adata, color=['Gpm6b', 'Art3', 'Prnp', 'Cryab', 'Fxyd1', 'Kcna1'], cmap='RdYlBu_r', use_raw=False, save='_ms_top_glial')"
   ]
  },
  {
   "cell_type": "markdown",
   "id": "d78dff8d-5e7c-4712-b305-7c3b61033bd8",
   "metadata": {},
   "source": [
    "## Annotation Dataframe -----"
   ]
  },
  {
   "cell_type": "raw",
   "id": "61694bcf-f0e7-497f-b03f-666032d0906d",
   "metadata": {},
   "source": [
    "After performing Leiden clustering using Seurat on R on the 435 peripheral glial cells selected from cluster 32 (all cells from brain were removed), we were able to get clustering of the myelinating, non-myelinating, and terminal cells. We import the dataframe and labeled the glial_class based on seurat_clusters"
   ]
  },
  {
   "cell_type": "code",
   "execution_count": null,
   "id": "d4a94ebf-478f-41f1-bd81-c26f9519a05d",
   "metadata": {},
   "outputs": [],
   "source": [
    "# Glial cells (435 rows) dataframe from R clustering\n",
    "annotation_df = pd.read_excel('metadata_clusters_seurat.xlsx')\n",
    "annotation_df.drop(columns=annotation_df.columns[-4:], axis=1, inplace=True)\n",
    "#annotation_df = annotation_df.rename(columns={'Unnamed: 0': 'index'})\n",
    "annotation_df"
   ]
  },
  {
   "cell_type": "code",
   "execution_count": null,
   "id": "53718586-eeab-4b1d-929a-2ccec0b4f454",
   "metadata": {},
   "outputs": [],
   "source": [
    "# Label glial_class based on seurat_clusters\n",
    "class_dictionary = {0 : 'non-myelinating', 1 : 'terminal', 2:'myelinating' }\n",
    "annotation_df[\"glial_class\"] = annotation_df[\"seurat_clusters\"].map(class_dictionary)\n",
    "annotation_df"
   ]
  },
  {
   "cell_type": "code",
   "execution_count": null,
   "id": "b22ac8d6-462e-4c3f-b1d5-76c2fd26b3c5",
   "metadata": {},
   "outputs": [],
   "source": [
    "# Set order of tissue and glial_class columns\n",
    "annotation_df['tissue'] = pd.Categorical(annotation_df['tissue'], ['Limb_Muscle', 'Heart', 'Trachea', 'Fat', 'Bladder', 'Lung', 'Kidney'])\n",
    "annotation_df['glial_class'] = pd.Categorical(annotation_df['glial_class'], ['myelinating', 'non-myelinating', 'terminal'])\n",
    "\n",
    "# Sort dataframe by tissue (descending cell #) then glial_class\n",
    "annotation_df = annotation_df.sort_values(by=['tissue','glial_class'], ignore_index=True)\n",
    "annotation_df"
   ]
  },
  {
   "cell_type": "code",
   "execution_count": null,
   "id": "853fc209-eaf4-4522-90e2-2eefd6693c17",
   "metadata": {},
   "outputs": [],
   "source": [
    "annotation_df.to_csv('glial_metadata.csv')"
   ]
  },
  {
   "cell_type": "code",
   "execution_count": null,
   "id": "8a05d68f-5163-493d-bfce-de5c71e98bb6",
   "metadata": {},
   "outputs": [],
   "source": [
    "# Label glial vs nonglial in the adata; Merge with annotation_df to get glial_df column\n",
    "adata.obs['glial'] = np.where(adata.obs.index.isin(annotation_df['index']), 'glial', 'non_glial')\n",
    "glial_adata = adata[adata.obs['glial'] == 'glial']\n",
    "glial_adata.obs = glial_adata.obs.merge(annotation_df, on='index', how='outer')\n",
    "glial_adata.obs.index = glial_adata.obs['index']\n",
    "glial_adata.obs"
   ]
  },
  {
   "cell_type": "code",
   "execution_count": null,
   "id": "5879a7ec-9f9a-423d-bb20-e8c3ee78ed21",
   "metadata": {},
   "outputs": [],
   "source": [
    "adata.write_h5ad(\"adata_labeled.h5ad\")"
   ]
  },
  {
   "cell_type": "markdown",
   "id": "74130078-017f-4f40-9d60-2e0706d681f3",
   "metadata": {},
   "source": [
    "## Visualization Outputs -----"
   ]
  },
  {
   "cell_type": "markdown",
   "id": "81808f64-9638-47b2-9699-83f47c83a019",
   "metadata": {},
   "source": [
    "### Figure for number/percentage of each glial_class across all tissue types"
   ]
  },
  {
   "cell_type": "code",
   "execution_count": null,
   "id": "f92bb14d-a1c4-4bf2-bf4a-6e40e3c3a617",
   "metadata": {},
   "outputs": [],
   "source": [
    "# Tabulate count of each tissue type organized by glial class\n",
    "annotation_df.groupby([\"tissue\", \"glial_class\"]).size()"
   ]
  },
  {
   "cell_type": "code",
   "execution_count": null,
   "id": "1a62dfc7-ccf1-408e-8d15-6c321fa24781",
   "metadata": {},
   "outputs": [],
   "source": [
    "# Create table of percentage of glial_class across all 7 tissue types \n",
    "glial_class_prop = pd.crosstab(index=annotation_df['tissue'],\n",
    "                             columns=annotation_df['glial_class'],\n",
    "                             normalize=\"index\") * 100\n",
    "glial_class_prop.to_csv('glial_class_prop.csv')\n",
    "glial_class_prop"
   ]
  },
  {
   "cell_type": "code",
   "execution_count": null,
   "id": "4d5bfcbd-2e6d-4b8f-82df-437086368b6b",
   "metadata": {},
   "outputs": [],
   "source": [
    "# Create stacked barplot of percentage of glial_class across all 7 tissue types \n",
    "glial_class_prop.plot(kind='bar', \n",
    "                      cmap='gray',\n",
    "                      edgecolor = \"black\",\n",
    "                      stacked=True)\n",
    "plt.legend(bbox_to_anchor=(1.1, 1.25))\n",
    "plt.xticks(rotation=25, fontsize=7)\n",
    "plt.ylabel(\"% Glial Cells\")\n",
    "plt.autoscale()\n",
    "plt.grid(False)\n",
    "plt.savefig(\"glial_class_prop.pdf\", bbox_inches = \"tight\")"
   ]
  },
  {
   "cell_type": "markdown",
   "id": "62e56470-ce52-4ee2-83d3-90a83b46ff59",
   "metadata": {},
   "source": [
    "### Heatmap for the finalized 435 glial cells across all tissue types"
   ]
  },
  {
   "cell_type": "code",
   "execution_count": null,
   "id": "1127f0a7-093d-4f95-8d01-33f100c29845",
   "metadata": {},
   "outputs": [],
   "source": [
    "# Function for generating a heatmap for specified tissue of finalized glial cells\n",
    "def snsHeatmap(adata, tissue):\n",
    "    adata.obs['barcodes'] = adata.obs.index\n",
    "    adata.obs.index = adata.obs.index.astype(str)\n",
    "    def sub_genes(adata, tissue):\n",
    "        sub = adata[adata.obs['tissue_y']==tissue]\n",
    "        sub = sub[:, ['Sox10','Plp1','S100b','Gpm6b','Prnp','Cryab','Kcna1','Igfbp7',\n",
    "                      'Scn7a','Gfra3','Apoe','Cldn19','Prx','Pllp','Bcas1','Mbp','Mpz',\n",
    "                      'Tinagl1','Gpc3','Bche','Cpm','Pla2g7','Kcnn4','Igfbp4','Sod3']]\n",
    "        sub.obs['barcodes_y']=sub.obs.index\n",
    "        sub.obs['barcodes_y']=sub.obs['barcodes_y'].astype('category')\n",
    "        display(sub)\n",
    "        return(sub)\n",
    "    sub = sub_genes(adata,tissue)\n",
    "    \n",
    "    # Sort the order of glial_class\n",
    "    sub.obs['glial_class'] = pd.Categorical(sub.obs['glial_class'], \n",
    "                                            categories=['terminal', 'myelinating', 'non-myelinating'], ordered=True)\n",
    "    sub = sub[sub.obs.sort_values(['glial_class']).index]\n",
    "    glial_class_col = sub.obs[\"glial_class\"]\n",
    "    \n",
    "    # Map custom colors of glial_class\n",
    "    lut = {'non-myelinating': '#F8766D', 'myelinating': '#619CFF', 'terminal': '#00BA38'}\n",
    "    row_colors = glial_class_col.map(lut).to_numpy()\n",
    "    \n",
    "    # Generate the heatmap and adjust tick labels\n",
    "    heatmap = sns.clustermap(sub.X.todense(), yticklabels = list(sub.obs['barcodes_y']), xticklabels= list(sub.var.index), \n",
    "                              col_cluster = False, row_cluster = False, cmap='RdYlBu_r', row_colors=row_colors)\n",
    "    heatmap.tick_params(axis='both', which='major', labelsize=3)\n",
    "    \n",
    "    # Legend for glial_class\n",
    "    handles = [Patch(facecolor=lut[name]) for name in lut]\n",
    "    plt.legend(handles, lut, title='glial_class', bbox_to_anchor=(0.7, 1), \n",
    "               bbox_transform=plt.gcf().transFigure, loc='upper right')\n",
    "    \n",
    "    fig = heatmap.fig\n",
    "    fig.savefig(\"_ms_\" + tissue + \"_glial_adata_heatmap.pdf\")\n",
    "    \n",
    "    return glial_class_col"
   ]
  },
  {
   "cell_type": "code",
   "execution_count": null,
   "id": "690d77e0-aa2d-4da2-afef-377d300110aa",
   "metadata": {},
   "outputs": [],
   "source": [
    "# Apply heatmap function on specified tissues\n",
    "Limb_Muscle_heatmap = snsHeatmap(glial_adata, \"Limb_Muscle\")\n",
    "Bladder_heatmap = snsHeatmap(glial_adata, \"Bladder\")\n",
    "Trachea_heatmap = snsHeatmap(glial_adata, \"Trachea\")\n",
    "Fat_heatmap = snsHeatmap(glial_adata, \"Fat\")\n",
    "Heart_heatmap = snsHeatmap(glial_adata, \"Heart\")\n",
    "Kidney_heatmap = snsHeatmap(glial_adata, \"Kidney\")\n",
    "Lung_heatmap = snsHeatmap(glial_adata, \"Lung\")"
   ]
  },
  {
   "cell_type": "markdown",
   "id": "8f94b6d9-ba11-4110-a563-dfed664813ca",
   "metadata": {},
   "source": [
    "## Get glial df in the same order as the clustermaps"
   ]
  },
  {
   "cell_type": "code",
   "execution_count": null,
   "id": "95f345c5-e7ac-4309-8fd6-85b86cdac7f3",
   "metadata": {},
   "outputs": [],
   "source": [
    "reord_barcodes = list(Limb_Muscle_heatmap[::-1].index) + list(Trachea_heatmap[::-1].index) + list(Heart_heatmap[::-1].index) + list(Bladder_heatmap[::-1].index) + list(Fat_heatmap[::-1].index) + list(Lung_heatmap[::-1].index) + list(Kidney_heatmap[::-1].index)"
   ]
  },
  {
   "cell_type": "code",
   "execution_count": null,
   "id": "90954992-ccfe-4711-991f-ff05fcb9dd50",
   "metadata": {},
   "outputs": [],
   "source": [
    "df1 = glial_adata.obs.set_index('index')\n",
    "df1 = df1.reindex(reord_barcodes)"
   ]
  },
  {
   "cell_type": "code",
   "execution_count": null,
   "id": "21eea8b9-32d0-4eac-81f1-bb53fdad3c5a",
   "metadata": {},
   "outputs": [],
   "source": [
    "final_glial_df = pd.DataFrame().assign(Cell_ID=df1['barcodes'], Age=df1['age_x'], Source_Description=df1['cell_x'], \n",
    "                                       Cell_Ontology_Class=df1['cell_ontology_class_x'],Free_Annotation=df1['free_annotation_x'], \n",
    "                                       Method=df1['method_x'],Mouse_ID=df1['mouse.id_x'], n_counts=df1['n_counts_x'], \n",
    "                                       Tissue=df1['tissue_y'],Tissue_Free_Annotation=df1['tissue_free_annotation_x'], \n",
    "                                       Glial_Class=df1['glial_class']) \n",
    "final_glial_df.to_csv('final_glial.csv')"
   ]
  },
  {
   "cell_type": "markdown",
   "id": "e1a3e126-4c88-404a-b92b-d87f93515df3",
   "metadata": {},
   "source": [
    "<br>\n",
    "<br>\n",
    "<br>\n",
    "<hr>\n",
    "<br>\n",
    "<br>\n",
    "<br>"
   ]
  }
 ],
 "metadata": {
  "kernelspec": {
   "display_name": "Python 3 (ipykernel)",
   "language": "python",
   "name": "python3"
  },
  "language_info": {
   "codemirror_mode": {
    "name": "ipython",
    "version": 3
   },
   "file_extension": ".py",
   "mimetype": "text/x-python",
   "name": "python",
   "nbconvert_exporter": "python",
   "pygments_lexer": "ipython3",
   "version": "3.9.12"
  }
 },
 "nbformat": 4,
 "nbformat_minor": 5
}
