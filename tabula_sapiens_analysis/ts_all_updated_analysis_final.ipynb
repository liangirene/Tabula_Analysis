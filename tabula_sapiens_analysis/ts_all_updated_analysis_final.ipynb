{
 "cells": [
  {
   "cell_type": "markdown",
   "id": "b7b7bc00",
   "metadata": {},
   "source": [
    "### Import packages and filepaths"
   ]
  },
  {
   "cell_type": "code",
   "execution_count": null,
   "id": "afd23f82",
   "metadata": {},
   "outputs": [],
   "source": [
    "import scanpy as sc\n",
    "import numpy as np\n",
    "import matplotlib as mpl\n",
    "import matplotlib.pyplot as plt\n",
    "import pandas as pd\n",
    "import os\n",
    "import sys"
   ]
  },
  {
   "cell_type": "code",
   "execution_count": null,
   "id": "415253e4",
   "metadata": {
    "tags": []
   },
   "outputs": [],
   "source": [
    "#This file is currently available from https://figshare.com/articles/dataset/Tabula_Sapiens_release_1_0/14267219?file=40067134\n",
    "#change the path to wherever you download the file located at the above link on your system\n",
    "ts_path=\"/oak/stanford/groups/ckuo/Shawn_shared/Tabula_Sapiens_Analysis/TabulaSapiens.h5ad\""
   ]
  },
  {
   "cell_type": "code",
   "execution_count": null,
   "id": "2c9830e3",
   "metadata": {},
   "outputs": [],
   "source": [
    "#change the following path to a folder on your system you would like to output files to\n",
    "save = \"/scratch/users/sschulz/shared\""
   ]
  },
  {
   "cell_type": "code",
   "execution_count": null,
   "id": "393a00ef",
   "metadata": {},
   "outputs": [],
   "source": [
    "#change the following path to the path to your Tabula Analysis folder\n",
    "tabula_analysis_path=\"/scratch/users/sschulz/shared/Tabula_Analysis\""
   ]
  },
  {
   "cell_type": "code",
   "execution_count": null,
   "id": "e973d9f3",
   "metadata": {},
   "outputs": [],
   "source": [
    "#this path is not currently used to generate data used in the publication\n",
    "#gaf=\"/scratch/users/sschulz/Glia_analysis/\""
   ]
  },
  {
   "cell_type": "markdown",
   "id": "9603d53a-272d-4b7f-a21c-4abf7cfc6837",
   "metadata": {},
   "source": [
    "### Read the adata"
   ]
  },
  {
   "cell_type": "code",
   "execution_count": null,
   "id": "950e39ce",
   "metadata": {},
   "outputs": [],
   "source": [
    "all_ts = sc.read_h5ad(ts_path)"
   ]
  },
  {
   "cell_type": "markdown",
   "id": "b67da872-5fad-4c83-b6b2-960b0ee954e2",
   "metadata": {},
   "source": [
    "### Change the defaults of scanpy's fig generation"
   ]
  },
  {
   "cell_type": "code",
   "execution_count": null,
   "id": "72d0a57b-d71f-437f-9a04-99cd2568b6a9",
   "metadata": {},
   "outputs": [],
   "source": [
    "sc.set_figure_params(dpi=100, dpi_save=1000)"
   ]
  },
  {
   "cell_type": "markdown",
   "id": "86117b1c-d7dc-4394-9df1-0461a64fff18",
   "metadata": {},
   "source": [
    "### Check leiden"
   ]
  },
  {
   "cell_type": "code",
   "execution_count": null,
   "id": "105aff0d",
   "metadata": {},
   "outputs": [],
   "source": [
    "sc.tl.leiden(all_ts, resolution=0.7)"
   ]
  },
  {
   "cell_type": "code",
   "execution_count": null,
   "id": "b062df47",
   "metadata": {},
   "outputs": [],
   "source": [
    "sc.pl.dotplot(all_ts, groupby='leiden', swap_axes=True, use_raw=False, var_names=['SOX10', 'NCAM1', 'PLP1', 'S100B', 'GFRA3',\"GFAP\"], dot_max=1, log=False,save = \"_filter_dotplot_leiden_0.7_all_ts.pdf\", cmap='Reds')\n"
   ]
  },
  {
   "cell_type": "code",
   "execution_count": null,
   "id": "a9b46da2-2884-45ed-be3f-f41bcc58c410",
   "metadata": {},
   "outputs": [],
   "source": [
    "all_ts.obs.to_csv(save + \"/\" + \"all_ts_metadata.csv\")"
   ]
  },
  {
   "cell_type": "markdown",
   "id": "1693bc6e-62c6-490d-b6d2-bf96bbc19d4d",
   "metadata": {
    "tags": []
   },
   "source": [
    "### Make UMAP plots for genes of interest and save"
   ]
  },
  {
   "cell_type": "code",
   "execution_count": null,
   "id": "b5b0cd3a-3ac4-4bbc-b6d5-3f1c402c4490",
   "metadata": {},
   "outputs": [],
   "source": [
    "def colUMAP(gene):\n",
    "    sc.pl.umap(all_ts, color=gene, save= \"_\" + gene + \".pdf\", use_raw=False, cmap='RdYlBu_r', vmax=10)\n",
    "    plt.savefig(save + \"/\" + \"UMAP_\" + gene + \".pdf\", bbox_inches=\"tight\")"
   ]
  },
  {
   "cell_type": "code",
   "execution_count": null,
   "id": "a9d36f3d-433e-4af5-af10-beaff9bd0dd2",
   "metadata": {
    "jupyter": {
     "outputs_hidden": true
    },
    "tags": []
   },
   "outputs": [],
   "source": [
    "gene_list = ['SOX10','PLP1','S100B','NCAM1','GFAP','PLLP','MPZ','MBP','PMP22','NCMAP','CRYAB', 'CD14', \"FCGR3A\", 'CCR2', 'CDH19',\"LGI4\", \"MYOT\",'CDKN1C','SCN7A','GFRA3','APOE','NRXN1']\n",
    "for gene in gene_list:\n",
    "    colUMAP(gene)"
   ]
  },
  {
   "cell_type": "code",
   "execution_count": null,
   "id": "de213905-fbe2-4168-85ef-81481b5b88ac",
   "metadata": {
    "jupyter": {
     "outputs_hidden": true
    },
    "tags": []
   },
   "outputs": [],
   "source": [
    "all_ts.obs"
   ]
  },
  {
   "cell_type": "markdown",
   "id": "6f35d462-357b-4cf1-ad2c-8d6a902880ce",
   "metadata": {},
   "source": [
    "### Load in annotations from circling cluster"
   ]
  },
  {
   "cell_type": "code",
   "execution_count": null,
   "id": "beb58ddd-e7d0-4299-bd69-92ec469d46c7",
   "metadata": {},
   "outputs": [],
   "source": [
    "#this csv was generated by manually circling cluster using cellxgene: https://cellxgene.cziscience.com/\n",
    "ann_df = pd.read_csv(tabula_analysis_path + \"/tabula_sapiens_analysis/\" + \"tabula_sapiens-cell-labels-XMFNVFXU.csv\", skiprows=2)"
   ]
  },
  {
   "cell_type": "code",
   "execution_count": null,
   "id": "7c2aafd1-02b3-40bd-8714-b3ae3f2ab9e9",
   "metadata": {},
   "outputs": [],
   "source": [
    "ann_df['glial_cells'].value_counts()"
   ]
  },
  {
   "cell_type": "code",
   "execution_count": null,
   "id": "edc3d765-5f69-41ea-aa31-74c073717d1e",
   "metadata": {},
   "outputs": [],
   "source": [
    "glia_index = ann_df[ann_df['glial_cells'] == 'glia']['cell_id']"
   ]
  },
  {
   "cell_type": "markdown",
   "id": "7c827118-f3cb-4629-a7a9-446a677a8873",
   "metadata": {
    "tags": []
   },
   "source": [
    "### Highlight cells of interest and save subset"
   ]
  },
  {
   "cell_type": "code",
   "execution_count": null,
   "id": "9b933f77-ca0c-4d13-94c7-aaad62ef8934",
   "metadata": {
    "tags": []
   },
   "outputs": [],
   "source": [
    "all_ts.obs['glial_highlight'] = 'non_glia'\n",
    "\n",
    "all_ts.obs['glial_highlight'] = all_ts.obs['glial_highlight'].astype('category')\n",
    "\n",
    "all_ts.obs['glial_highlight'] = all_ts.obs['glial_highlight'].cat.set_categories(['non_glia', 'glia_candidates'])\n",
    "\n",
    "all_ts.obs['glial_highlight'].loc[glia_index] = 'glia_candidates'"
   ]
  },
  {
   "cell_type": "code",
   "execution_count": null,
   "id": "5204c7df-1d33-4900-b339-c2c320993cd0",
   "metadata": {},
   "outputs": [],
   "source": [
    "sc.pl.umap(all_ts, color = 'glial_highlight', save='_all_cells_glia_highlight', palette={'non_glia':'grey','glia_candidates':'orange'})\n",
    "                                                                                         "
   ]
  },
  {
   "cell_type": "code",
   "execution_count": null,
   "id": "e80cf882-2fc2-495c-bfe5-9f85df39d7dd",
   "metadata": {},
   "outputs": [],
   "source": [
    "subset = all_ts[all_ts.obs['glial_highlight'] == 'glia_candidates']"
   ]
  },
  {
   "cell_type": "code",
   "execution_count": null,
   "id": "f0aa187e-6560-4a11-89a2-e73e549bad10",
   "metadata": {},
   "outputs": [],
   "source": [
    "subset.write_h5ad(save + '/' + \"glia_689_subset.h5ad\")"
   ]
  },
  {
   "cell_type": "code",
   "execution_count": null,
   "id": "aac357f3-3575-4212-83b1-83d95ae56488",
   "metadata": {},
   "outputs": [],
   "source": [
    "subset.obs"
   ]
  },
  {
   "cell_type": "code",
   "execution_count": null,
   "id": "a3d4a63a-1c36-4068-bdcf-0e8a399af544",
   "metadata": {},
   "outputs": [],
   "source": [
    "#save counts as well\n",
    "subset.obs['organ_tissue'].value_counts().to_frame('counts').to_csv(save + '/' + 'glia_candidate_counts.csv')"
   ]
  },
  {
   "cell_type": "markdown",
   "id": "c9f2c7e7-9957-4662-a99a-2b0376218704",
   "metadata": {},
   "source": [
    "### Ranked genes group calculations (not currently used in publication)"
   ]
  },
  {
   "cell_type": "code",
   "execution_count": null,
   "id": "10e5836a-4dc3-4745-af52-96f43b4fa278",
   "metadata": {},
   "outputs": [],
   "source": [
    "##this takes a long time, only run again when you're ready for your notebook to hang for a while\n",
    "sc.tl.rank_genes_groups(all_ts, groupby='glial_highlight', use_raw=False, method='wilcoxon')\n",
    "all_ts.write_h5ad(\"/scratch/users/sschulz/all_ts_ranked_genes.h5ad\")\n",
    "sc.pl.rank_genes_groups(all_ts, groups='leiden',save=\"all_rank_gene_plot\",)\n",
    "\n",
    "#this last part needs to be changed to the correct leiden group\n",
    "sc.get.rank_genes_groups_df(all_ts,group='glia_candidates').to_csv(\"/Users/shawnschulz/Documents/shared/ts_689_rank_genes.csv\")"
   ]
  },
  {
   "cell_type": "markdown",
   "id": "8ca72be4-fc30-467f-8cb9-c693860fe29b",
   "metadata": {},
   "source": [
    "### Clustered heatmaps (not currently used in publication)"
   ]
  },
  {
   "cell_type": "code",
   "execution_count": null,
   "id": "0152c348-b4e9-46c1-be33-e194a33ade23",
   "metadata": {},
   "outputs": [],
   "source": [
    "import seaborn"
   ]
  },
  {
   "cell_type": "code",
   "execution_count": null,
   "id": "079d1a17-f525-41fa-b607-7714187f9b0b",
   "metadata": {},
   "outputs": [],
   "source": [
    "import fastcluster"
   ]
  },
  {
   "cell_type": "code",
   "execution_count": null,
   "id": "402491e1-fe7a-4f18-88b4-8de400284d4f",
   "metadata": {},
   "outputs": [],
   "source": [
    "before_subset"
   ]
  },
  {
   "cell_type": "code",
   "execution_count": null,
   "id": "da9713da-b932-4bd1-b70e-20221fd2cbfa",
   "metadata": {},
   "outputs": [],
   "source": [
    "df = pd.read_csv(gaf + 'diff_genes.csv')\n",
    "\n",
    "diff_mye = df['Myelinating']\n",
    "\n",
    "diff_mye = diff_mye.dropna()\n",
    "\n",
    "diff_non=df['Non-Myelinating']"
   ]
  },
  {
   "cell_type": "code",
   "execution_count": null,
   "id": "d115e008-426e-4cc5-a6f9-02bf56dc1aeb",
   "metadata": {},
   "outputs": [],
   "source": [
    "myelinating = ['ERBB3', 'S100B', 'PLP1', 'SOX10', 'MBP', 'MPZ', 'PTN', 'CRYAB', 'NCMAP', 'PLLP', 'PRX', 'PMP22', 'MAG', 'EGR2', \"APOE\"]\n",
    "non_myelinating = ['ERBB3', 'GFRA3', 'S100B', 'PLP1', 'SOX10', 'NGFR', 'SCN7A', 'APOD', 'SMOC2', 'ECM1', 'NCAM1', 'L1CAM', 'NRXN1']\n",
    "features=['SOX10', 'NCAM1', 'PLP1']\n"
   ]
  },
  {
   "cell_type": "code",
   "execution_count": null,
   "id": "1eb551f7-b023-43ca-a264-0b9bb26a697f",
   "metadata": {},
   "outputs": [],
   "source": [
    "#This code block gets lists of classic glia markers\n",
    "def intersection(list1, list2):\n",
    "    x =  set(list1).intersection(set(list2))\n",
    "    display(x)\n",
    "    return(list(x))\n",
    "def filterSet(list1, list2):\n",
    "    x = intersection(list1, list2)\n",
    "    y = set(list1) - set(list2)\n",
    "    return(list(y))\n",
    "shared = set(diff_mye).intersection(set(diff_non))\n",
    "shared = set(myelinating).intersection(set(non_myelinating))\n",
    "def order_unique(seq):\n",
    "    seen = set()\n",
    "    seen_add = seen.add\n",
    "    return [x for x in seq if not (x in seen or seen_add(x))]\n",
    "for i in shared:\n",
    "    features.append(i)\n",
    "mye = filterSet(diff_mye, features)\n",
    "non = filterSet(diff_non, features)\n",
    "del features[6]\n",
    "def fixOrder(list1, list2):\n",
    "    return([x for x in list1 if x in list2])\n",
    "mye = fixOrder(diff_mye, mye)\n",
    "non = fixOrder(diff_non, non)\n",
    "geneDict = {}\n",
    "geneDict['Shared'] = features\n",
    "geneDict['Myelinating'] = mye\n",
    "geneDict['Non-Myelinating']=non"
   ]
  },
  {
   "cell_type": "code",
   "execution_count": null,
   "id": "b75bbdf6-5b1c-456c-8a87-45ad2b2d470d",
   "metadata": {},
   "outputs": [],
   "source": [
    "l = list(geneDict.values())"
   ]
  },
  {
   "cell_type": "code",
   "execution_count": null,
   "id": "28e0a214-6ec4-41a4-9ef9-67272dc8ce5d",
   "metadata": {},
   "outputs": [],
   "source": [
    "all_features = [item for sublist in l for item in sublist]\n"
   ]
  },
  {
   "cell_type": "code",
   "execution_count": null,
   "id": "b03e0c94-bd4b-45bf-bf51-4f4d21770383",
   "metadata": {},
   "outputs": [],
   "source": [
    "def flatten(l):\n",
    "    flatList = [item for sublist in l for item in sublist]\n",
    "    return flatList"
   ]
  },
  {
   "cell_type": "code",
   "execution_count": null,
   "id": "6ade6e57-de3c-4009-ae03-2af5f3cf86be",
   "metadata": {},
   "outputs": [],
   "source": [
    "stain_features = ['GFAP', 'GFRA3', 'SOX10', 'S100B', 'S100A', 'MBP', 'KCNA2', 'KCNA6']"
   ]
  },
  {
   "cell_type": "code",
   "execution_count": null,
   "id": "055f3df6-5920-4c26-9935-8a4f0e6b365f",
   "metadata": {},
   "outputs": [],
   "source": [
    "stain = no_glia[:,no_glia.var.index.isin(stain_features)]"
   ]
  },
  {
   "cell_type": "code",
   "execution_count": null,
   "id": "c7da9ff1-ba36-433a-a262-02643dd502d4",
   "metadata": {},
   "outputs": [],
   "source": [
    "stain = stain.copy().transpose()"
   ]
  },
  {
   "cell_type": "code",
   "execution_count": null,
   "id": "17454ccb-ad87-4b02-b55f-6f897bcb5754",
   "metadata": {},
   "outputs": [],
   "source": [
    "colors = {'0_Bladder':'#97c3b4', '0_Eye':'#e85535', '0_Large_Intestine':'#3bc587', '0_Lung':'#9775fa', '0_Muscle':'#1c034d',\n",
    "       '0_Pancreas':'#4ce88a', '0_Prostate':'#9e1977', '0_Small_Intestine':'#cfc8d6', '0_Thymus':'#cfc8d6',\n",
    "       '2_Large_Intestine':'#651665', '2_Lung':'#ed78ed', '2_Prostate':'#375292', '2_Salivary_Gland':'#6f9269',\n",
    "       '2_Tongue':'#c21290'}"
   ]
  },
  {
   "cell_type": "code",
   "execution_count": null,
   "id": "8ad18a53-e2fd-4fe8-9317-94b866d52229",
   "metadata": {},
   "outputs": [],
   "source": [
    "stain.var['classes_colors'] = stain.var['classes'].replace(colors)"
   ]
  },
  {
   "cell_type": "code",
   "execution_count": null,
   "id": "c42ea9c2-8d9f-431d-837f-99beb37317ae",
   "metadata": {},
   "outputs": [],
   "source": [
    "heatmap = seaborn.clustermap(stain.X.todense(), yticklabels= list(stain.obs.index),row_cluster = True, col_colors=stain.var['classes_colors'].to_numpy(), cmap='RdYlBu_r')\n",
    "heatmap.tick_params(axis='both', which='major', labelsize=5)\n",
    "fig = heatmap.fig\n",
    "fig.savefig(save + \"/\" + \"ts_glia_stain_genes_clustered_heatmap_less_genes.pdf\") "
   ]
  },
  {
   "cell_type": "code",
   "execution_count": null,
   "id": "7f29669b-ab10-4090-ad18-38b1c476585c",
   "metadata": {},
   "outputs": [],
   "source": [
    "bladder = no_glia[no_glia.obs['tissue_in_publication'] == 'Bladder']"
   ]
  },
  {
   "cell_type": "code",
   "execution_count": null,
   "id": "c5a21315-9d5c-4fa2-8fc1-265d9a25b4a5",
   "metadata": {},
   "outputs": [],
   "source": [
    "bstain"
   ]
  },
  {
   "cell_type": "code",
   "execution_count": null,
   "id": "e86cb07c-e720-4afb-b40b-71694a305a1e",
   "metadata": {},
   "outputs": [],
   "source": [
    "bstain = bladder[:,bladder.var.index.isin(stain_features)]\n",
    "bstain = bstain.copy().transpose()\n",
    "colors = {'0_Bladder':'#97c3b4', '0_Eye':'#e85535', '0_Large_Intestine':'#3bc587', '0_Lung':'#9775fa', '0_Muscle':'#1c034d',\n",
    "       '0_Pancreas':'#4ce88a', '0_Prostate':'#9e1977', '0_Small_Intestine':'#cfc8d6', '0_Thymus':'#cfc8d6',\n",
    "       '2_Large_Intestine':'#651665', '2_Lung':'#ed78ed', '2_Prostate':'#375292', '2_Salivary_Gland':'#6f9269',\n",
    "       '2_Tongue':'#c21290'}\n",
    "bstain.var['classes_colors'] = bstain.var['classes'].replace(colors)"
   ]
  },
  {
   "cell_type": "code",
   "execution_count": null,
   "id": "978c90b1-fb7f-40e3-9f63-151b61dc1501",
   "metadata": {},
   "outputs": [],
   "source": [
    "heatmap = seaborn.clustermap(bstain.X.todense(), yticklabels= list(stain.obs.index),row_cluster = True, col_colors=stain.var['classes_colors'].to_numpy(), cmap='RdYlBu_r')\n",
    "heatmap.tick_params(axis='both', which='major', labelsize=5)\n",
    "fig = heatmap.fig\n",
    "fig.savefig(save + \"/\" + \"ts_glia_bladder_genes_clustered_heatmap_less_genes.pdf\") "
   ]
  },
  {
   "cell_type": "code",
   "execution_count": null,
   "id": "6c75bac0-72e9-49fd-a6c1-cc13a0ff611f",
   "metadata": {},
   "outputs": [],
   "source": [
    "feat_subset = no_glia[:,no_glia.var.index.isin(all_features)]"
   ]
  },
  {
   "cell_type": "code",
   "execution_count": null,
   "id": "41f57e8a-f26b-4620-a9bc-8c6f82b91f71",
   "metadata": {},
   "outputs": [],
   "source": [
    "flipped = feat_subset.copy().transpose()"
   ]
  },
  {
   "cell_type": "code",
   "execution_count": null,
   "id": "e30906a4-c887-4378-8853-caa8e48b0b72",
   "metadata": {},
   "outputs": [],
   "source": [
    "np.unique(flipped.var['classes'])"
   ]
  },
  {
   "cell_type": "code",
   "execution_count": null,
   "id": "337e4daa-0d83-428e-a826-c3abaa5a9774",
   "metadata": {},
   "outputs": [],
   "source": [
    "len(np.unique(flipped.var['classes']))"
   ]
  },
  {
   "cell_type": "code",
   "execution_count": null,
   "id": "2bbcf22d-ee75-4e47-b4d5-6e3499f263c1",
   "metadata": {},
   "outputs": [],
   "source": [
    "colors = {'0_Bladder':'#97c3b4', '0_Eye':'#e85535', '0_Large_Intestine':'#3bc587', '0_Lung':'#9775fa', '0_Muscle':'#1c034d',\n",
    "       '0_Pancreas':'#4ce88a', '0_Prostate':'#9e1977', '0_Small_Intestine':'#cfc8d6', '0_Thymus':'#cfc8d6',\n",
    "       '2_Large_Intestine':'#651665', '2_Lung':'#ed78ed', '2_Prostate':'#375292', '2_Salivary_Gland':'#6f9269',\n",
    "       '2_Tongue':'#c21290'}"
   ]
  },
  {
   "cell_type": "code",
   "execution_count": null,
   "id": "6b758ce2-dde8-4e27-be78-7f705a5d0b50",
   "metadata": {},
   "outputs": [],
   "source": [
    "flipped.var['classes_colors'] = flipped.var['classes'].replace(colors)"
   ]
  },
  {
   "cell_type": "code",
   "execution_count": null,
   "id": "0b244f53-1f9e-436c-bb23-e488f6a7d54b",
   "metadata": {},
   "outputs": [],
   "source": [
    "def helper(row):\n",
    "    if row['feature_name'] in geneDict['Shared']:\n",
    "        return 'Common'\n",
    "    if row['feature_name'] in geneDict['Myelinating']:\n",
    "        return 'Myelinating'\n",
    "    if row['feature_name'] in geneDict['Non-Myelinating']:\n",
    "        return 'Non-Myelinating'\n",
    "def simple(row):\n",
    "    return helper(row)\n",
    "flipped.obs['glia_type'] = flipped.obs.apply(lambda row: helper(row), axis=1).astype('category')"
   ]
  },
  {
   "cell_type": "code",
   "execution_count": null,
   "id": "371c2ba1-3eae-40db-bb66-4cf9b471db4d",
   "metadata": {},
   "outputs": [],
   "source": [
    "def helper(row):\n",
    "    if row['feature_name'] in geneDict['Shared']:\n",
    "        return '#29d797'\n",
    "    if row['feature_name'] in geneDict['Myelinating']:\n",
    "        return '#c37b79'\n",
    "    if row['feature_name'] in geneDict['Non-Myelinating']:\n",
    "        return '#2e36c4'\n",
    "def simple(row):\n",
    "    return helper(row)\n",
    "flipped.obs['colors'] = flipped.obs.apply(lambda row: helper(row), axis=1).astype('category')"
   ]
  },
  {
   "cell_type": "code",
   "execution_count": null,
   "id": "86a56697-c9d4-430c-8e30-9cc0baacd220",
   "metadata": {},
   "outputs": [],
   "source": [
    "flipped = flipped[flipped.obs.sort_values('glia_type').index]"
   ]
  },
  {
   "cell_type": "code",
   "execution_count": null,
   "id": "70c3957a-0404-4fd3-a316-a6231b3a5b56",
   "metadata": {},
   "outputs": [],
   "source": [
    "colorbar= {'#29d797':'Shared', '#c37b79':'Myelinating', '#2e36c4':'Non-Myelinating'}"
   ]
  },
  {
   "cell_type": "code",
   "execution_count": null,
   "id": "ba6a0414-f822-4ff4-8380-a16a6bf40a51",
   "metadata": {},
   "outputs": [],
   "source": [
    "no_cns = {'Common': ['SOX10', 'PLP1', 'NCAM1'],\n",
    " 'MSC': ['PLLP', 'MPZ', 'MBP', 'GFAP'],\n",
    " 'NMSC': ['SCN7A', 'GFRA3', 'PTPRZ1']}"
   ]
  },
  {
   "cell_type": "code",
   "execution_count": null,
   "id": "e359648d-2fff-477a-9850-6c8c30d850a4",
   "metadata": {},
   "outputs": [],
   "source": [
    "small = flipped[flipped.obs.index.isin(flatten(list(no_cns.values()))),:]"
   ]
  },
  {
   "cell_type": "code",
   "execution_count": null,
   "id": "a9307984-aca5-4f01-88ae-c334b66081dd",
   "metadata": {
    "tags": []
   },
   "outputs": [],
   "source": [
    "def helper(row):\n",
    "    if row['feature_name'] in no_cns['Common']:\n",
    "        return 'Common'\n",
    "    if row['feature_name'] in no_cns['MSC']:\n",
    "        return 'Myelinating'\n",
    "    if row['feature_name'] in no_cns['NMSC']:\n",
    "        return 'Non-Myelinating'\n",
    "def simple(row):\n",
    "    return helper(row)\n",
    "flipped.obs['glia_type'] = flipped.obs.apply(lambda row: helper(row), axis=1).astype('category')\n",
    "def helper(row):\n",
    "    if row['feature_name'] in no_cns['Common']:\n",
    "        return '#29d797'\n",
    "    if row['feature_name'] in no_cns['MSC']:\n",
    "        return '#c37b79'\n",
    "    if row['feature_name'] in no_cns['NMSC']:\n",
    "        return '#2e36c4'\n",
    "def simple(row):\n",
    "    return helper(row)\n",
    "small.obs['shorter colors'] = small.obs.apply(lambda row: helper(row), axis=1).astype('category')"
   ]
  },
  {
   "cell_type": "code",
   "execution_count": null,
   "id": "2275b128-5eb7-4d5e-bfdd-1185538dd28d",
   "metadata": {},
   "outputs": [],
   "source": [
    "heatmap = seaborn.clustermap(small.X.todense(), yticklabels= list(small.obs.index),row_cluster = False,row_colors = small.obs['shorter colors'].to_numpy(), col_colors=small.var['classes_colors'].to_numpy(), cmap='RdYlBu_r')\n",
    "heatmap.tick_params(axis='both', which='major', labelsize=5)\n",
    "fig = heatmap.fig\n",
    "fig.savefig(save + \"/\" + \"ts_glia_small_clustered_heatmap_less_genes.pdf\") "
   ]
  },
  {
   "cell_type": "code",
   "execution_count": null,
   "id": "d9504b52-947d-4e95-9a2c-26bd06c53083",
   "metadata": {},
   "outputs": [],
   "source": [
    "heatmap = seaborn.clustermap(flipped.X.todense(), yticklabels= list(flipped.obs.index),row_colors = flipped.obs['colors'].to_numpy(), col_colors=flipped.var['classes_colors'].to_numpy(), cmap='RdYlBu_r')\n",
    "heatmap.tick_params(axis='both', which='major', labelsize=5)\n",
    "fig = heatmap.fig\n",
    "fig.savefig(save + \"/\" + \"ts_glia_big_clustered_heatmap_many_genes.pdf\") "
   ]
  }
 ],
 "metadata": {
  "kernelspec": {
   "display_name": "Python 3 (ipykernel)",
   "language": "python",
   "name": "python3"
  },
  "language_info": {
   "codemirror_mode": {
    "name": "ipython",
    "version": 3
   },
   "file_extension": ".py",
   "mimetype": "text/x-python",
   "name": "python",
   "nbconvert_exporter": "python",
   "pygments_lexer": "ipython3",
   "version": "3.9.16"
  }
 },
 "nbformat": 4,
 "nbformat_minor": 5
}
